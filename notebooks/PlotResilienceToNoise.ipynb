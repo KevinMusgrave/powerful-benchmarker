{
 "cells": [
  {
   "cell_type": "code",
   "execution_count": 1,
   "metadata": {},
   "outputs": [],
   "source": [
    "import os\n",
    "import sys\n",
    "\n",
    "import numpy as np\n",
    "import pandas as pd\n",
    "import seaborn as sns\n",
    "from scipy.stats import pearsonr, spearmanr\n",
    "\n",
    "sys.path.insert(0, \"..\")\n",
    "\n",
    "from validator_tests.eval_validators import _get_correlation, group_by_task_validator\n",
    "from validator_tests.utils.constants import TARGET_ACCURACY\n",
    "from validator_tests.utils.df_utils import get_name_from_df, unify_validator_columns\n",
    "from validator_tests.utils.plot_val_vs_acc import scatter_plot"
   ]
  },
  {
   "cell_type": "code",
   "execution_count": 2,
   "metadata": {},
   "outputs": [],
   "source": [
    "df1 = pd.read_pickle(\n",
    "    \"/home/tkm45/NEW_STUFF/2021_experiments/office31_amazon_webcam_fl6_Adam_lr1/all_dfs_processed.pkl\"\n",
    ")\n",
    "df2 = pd.read_pickle(\n",
    "    \"/home/tkm45/NEW_STUFF/2021_experiments/office31_amazon_webcam_fl3_Adam_lr1/all_dfs_processed.pkl\"\n",
    ")\n",
    "df = pd.concat([df1, df2], axis=0)"
   ]
  },
  {
   "cell_type": "code",
   "execution_count": 3,
   "metadata": {},
   "outputs": [],
   "source": [
    "def add_noise(original_df, scale):\n",
    "    df = original_df.copy()\n",
    "    df.groupby([\"adapter\", \"trial_num\", \"epoch\"]).size().reset_index().rename(\n",
    "        columns={0: \"count\"}\n",
    "    )\n",
    "    df = df.rename(columns={\"count\": \"noise\"})\n",
    "    df[\"noise\"] = np.random.normal(scale=scale, size=(len(df)))\n",
    "    df = original_df.merge(df)\n",
    "    df[TARGET_ACCURACY] = df[TARGET_ACCURACY] + df[\"noise\"]\n",
    "    df[TARGET_ACCURACY] = df[TARGET_ACCURACY].clip(lower=0, upper=1)\n",
    "    return df\n",
    "\n",
    "\n",
    "def get_correlation(df, per_adapter):\n",
    "    return _get_correlation(\n",
    "        df.copy(), per_adapter=per_adapter, src_threshold=0.0, name=\"weighted_spearman\"\n",
    "    )\n",
    "\n",
    "\n",
    "def get_acc(df, per_adapter, N):\n",
    "    def score_fn(x):\n",
    "        return np.mean(-np.sort(-x[TARGET_ACCURACY].values)[:N])\n",
    "\n",
    "    return _get_correlation(\n",
    "        df.copy(),\n",
    "        per_adapter=per_adapter,\n",
    "        src_threshold=0.0,\n",
    "        name=f\"top_{N}_acc\",\n",
    "        score_fn=score_fn,\n",
    "    )"
   ]
  },
  {
   "cell_type": "code",
   "execution_count": 5,
   "metadata": {},
   "outputs": [
    {
     "name": "stdout",
     "output_type": "stream",
     "text": [
      "74 74\n"
     ]
    }
   ],
   "source": [
    "N = 5\n",
    "corr = get_correlation(df, per_adapter=False)\n",
    "acc = get_acc(df, per_adapter=False, N=N)\n",
    "print(len(corr), len(acc))\n",
    "\n",
    "s = {\"corr_with_noise\": [], f\"top_{N}_with_noise\": []}\n",
    "for scale in np.linspace(0, 1, 101):\n",
    "    df_with_noise = add_noise(df, scale)\n",
    "    corr_with_noise = get_correlation(df_with_noise, per_adapter=False)\n",
    "    acc_with_noise = get_acc(df_with_noise, per_adapter=False, N=N)\n",
    "\n",
    "    s1 = spearmanr(\n",
    "        corr_with_noise[\"weighted_spearman\"].values, corr[\"weighted_spearman\"].values\n",
    "    ).correlation\n",
    "    s2 = spearmanr(\n",
    "        acc_with_noise[f\"top_{N}_acc\"].values, acc[f\"top_{N}_acc\"].values\n",
    "    ).correlation\n",
    "    s[\"corr_with_noise\"].append(s1)\n",
    "    s[f\"top_{N}_with_noise\"].append(s2)\n",
    "    print(scale, s1, s2)"
   ]
  },
  {
   "cell_type": "code",
   "execution_count": null,
   "metadata": {},
   "outputs": [],
   "source": []
  }
 ],
 "metadata": {
  "kernelspec": {
   "display_name": "Python 3.9.7 ('pb')",
   "language": "python",
   "name": "python3"
  },
  "language_info": {
   "codemirror_mode": {
    "name": "ipython",
    "version": 3
   },
   "file_extension": ".py",
   "mimetype": "text/x-python",
   "name": "python",
   "nbconvert_exporter": "python",
   "pygments_lexer": "ipython3",
   "version": "3.9.7"
  },
  "orig_nbformat": 4,
  "vscode": {
   "interpreter": {
    "hash": "fcb0354d20ab1ef4195711fd27d656b3351c9910487d79f8d59c2cf035c2a362"
   }
  }
 },
 "nbformat": 4,
 "nbformat_minor": 2
}
