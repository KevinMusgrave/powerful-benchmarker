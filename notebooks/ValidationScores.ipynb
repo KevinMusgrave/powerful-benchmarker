{
 "cells": [
  {
   "cell_type": "code",
   "execution_count": null,
   "id": "3072e77d",
   "metadata": {},
   "outputs": [],
   "source": [
    "!pip install pytorch-adapt\n",
    "!pip install pandas==1.3.5"
   ]
  },
  {
   "cell_type": "code",
   "execution_count": null,
   "id": "06154ec6",
   "metadata": {},
   "outputs": [],
   "source": [
    "# download logits\n",
    "# !wget -O dann_mnist_logits.pkl https://cornell.box.com/shared/static/skt4oosehki3cvp9hh2w89b1bdiygi3s\n",
    "# !wget -O adda_mnist_logits.pkl https://cornell.box.com/shared/static/qgwjejp3iqtoh5my2l5x54m7oc01w3wg\n",
    "# !wget -O vada_mnist_logits.pkl https://cornell.box.com/shared/static/z4wnogbpqeshvlktzbf6szurmye9i6xo\n",
    "\n",
    "# download validation scores and accuracies\n",
    "!wget -O dann_mnist_accs.pkl https://cornell.box.com/shared/static/6er2sxjexi5mqdu2hwotznbd0qr8ltr8\n",
    "!wget -O adda_mnist_accs.pkl https://cornell.box.com/shared/static/d9pi6u60d9x59zmtnj6khilbsfemnzvh\n",
    "!wget -O vada_mnist_accs.pkl https://cornell.box.com/shared/static/v94ogbxyx3wqt9xxfgwmt3zsd89n39gs"
   ]
  },
  {
   "cell_type": "code",
   "execution_count": 1,
   "id": "69b639e0",
   "metadata": {},
   "outputs": [],
   "source": [
    "import matplotlib.pyplot as plt\n",
    "import numpy as np\n",
    "import pandas as pd\n",
    "import torch\n",
    "import torch.nn.functional as F\n",
    "import tqdm\n",
    "from pytorch_adapt.validators import AccuracyValidator, IMValidator, SNDValidator"
   ]
  },
  {
   "cell_type": "code",
   "execution_count": 2,
   "id": "0e1d6858",
   "metadata": {},
   "outputs": [],
   "source": [
    "def get_acc(row, split, validator, device):\n",
    "    logits = torch.from_numpy(getattr(row, f\"{split}_logits\")).to(device)\n",
    "    labels = torch.from_numpy(getattr(row, f\"{split}_labels\")).to(device)\n",
    "    preds = F.softmax(logits, dim=1)\n",
    "    return validator.score(src_val={\"preds\": preds, \"labels\": labels})\n",
    "\n",
    "\n",
    "def get_im(row, validator, device):\n",
    "    logits = torch.from_numpy(row.target_logits).to(device)\n",
    "    return validator.score(target_train={\"logits\": logits})\n",
    "\n",
    "\n",
    "def get_snd(row, validator, device):\n",
    "    logits = torch.from_numpy(row.target_logits).to(device)\n",
    "    preds = F.softmax(logits, dim=1)\n",
    "    return validator.score(target_train={\"preds\": preds})\n",
    "\n",
    "\n",
    "def compute_acc(algo):\n",
    "    df = pd.read_pickle(f\"{algo}_mnist_logits.pkl\")\n",
    "\n",
    "    all_exp_nums = []\n",
    "    all_epochs = []\n",
    "    all_src_accs = []\n",
    "    all_target_accs = []\n",
    "    all_im = []\n",
    "    all_snd = []\n",
    "    device = torch.device(\"cuda\")\n",
    "\n",
    "    AV = AccuracyValidator()\n",
    "    IMV = IMValidator()\n",
    "    SNDV = SNDValidator()\n",
    "\n",
    "    for row in tqdm.tqdm(df.itertuples(), total=df.shape[0]):\n",
    "        all_exp_nums.append(row.exp_num)\n",
    "        all_epochs.append(row.epoch)\n",
    "        all_src_accs.append(get_acc(row, \"src\", AV, device))\n",
    "        all_target_accs.append(get_acc(row, \"target\", AV, device))\n",
    "        all_im.append(get_im(row, IMV, device))\n",
    "        all_snd.append(get_snd(row, SNDV, device))\n",
    "\n",
    "    return pd.DataFrame(\n",
    "        {\n",
    "            \"exp_num\": all_exp_nums,\n",
    "            \"epoch\": all_epochs,\n",
    "            \"src_acc\": all_src_accs,\n",
    "            \"target_acc\": all_target_accs,\n",
    "            \"im\": all_im,\n",
    "            \"snd\": all_snd,\n",
    "        }\n",
    "    )\n",
    "\n",
    "\n",
    "def compute_acc_and_save(algo):\n",
    "    df = compute_acc(algo)\n",
    "    df.to_pickle(f\"{algo}_mnist_accs.pkl\")"
   ]
  },
  {
   "cell_type": "code",
   "execution_count": 3,
   "id": "ff833cbc",
   "metadata": {},
   "outputs": [],
   "source": [
    "df = []\n",
    "for algo in [\"dann\", \"adda\", \"vada\"]:\n",
    "    #     compute_acc_and_save(algo)\n",
    "    curr_df = pd.read_pickle(f\"{algo}_mnist_accs.pkl\")\n",
    "    df.append(curr_df.assign(algo=algo))\n",
    "df = pd.concat(df, ignore_index=True)"
   ]
  },
  {
   "cell_type": "code",
   "execution_count": 4,
   "id": "63591c28",
   "metadata": {},
   "outputs": [
    {
     "name": "stdout",
     "output_type": "stream",
     "text": [
      "best validation score 9.105\n",
      "target accuracy 0.0978\n"
     ]
    },
    {
     "data": {
      "image/png": "[encoded data removed]",
      "text/plain": [
       "<Figure size 432x288 with 1 Axes>"
      ]
     },
     "metadata": {
      "needs_background": "light"
     },
     "output_type": "display_data"
    }
   ],
   "source": [
    "def filter_by_src_acc(df, src_threshold):\n",
    "    df = df.round(4)\n",
    "    pretrained_src_acc = np.round(0.9949950575828552, 4)\n",
    "    return df[(df[\"src_acc\"] / pretrained_src_acc) >= src_threshold]\n",
    "\n",
    "\n",
    "def scatter_plot(df, x, y, c):\n",
    "    plt.scatter(df[x], df[y], c=df[c], s=0.5, cmap=\"rainbow\")\n",
    "\n",
    "\n",
    "def filter_and_plot(df, validator, src_threshold, algos):\n",
    "    df = filter_by_src_acc(df, src_threshold)\n",
    "    df = df[df[\"algo\"].isin(algos)]\n",
    "    scatter_plot(df, validator, \"target_acc\", \"src_acc\")\n",
    "    return df.loc[df[validator].idxmax()]\n",
    "\n",
    "\n",
    "validator = \"snd\"\n",
    "algos = [\"dann\", \"adda\", \"vada\"]\n",
    "best_row = filter_and_plot(df, validator, 0.98, algos)\n",
    "print(\"best validation score\", best_row[validator])\n",
    "print(\"target accuracy\", best_row[\"target_acc\"])"
   ]
  },
  {
   "cell_type": "code",
   "execution_count": null,
   "id": "cd27440c",
   "metadata": {},
   "outputs": [],
   "source": []
  }
 ],
 "metadata": {
  "accelerator": "GPU",
  "kernelspec": {
   "display_name": "Python 3 (ipykernel)",
   "language": "python",
   "name": "python3"
  },
  "language_info": {
   "codemirror_mode": {
    "name": "ipython",
    "version": 3
   },
   "file_extension": ".py",
   "mimetype": "text/x-python",
   "name": "python",
   "nbconvert_exporter": "python",
   "pygments_lexer": "ipython3",
   "version": "3.9.7"
  }
 },
 "nbformat": 4,
 "nbformat_minor": 5
}
